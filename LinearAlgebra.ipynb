{
 "cells": [
  {
   "cell_type": "markdown",
   "id": "alternative-digit",
   "metadata": {},
   "source": [
    "# Project 2 Linear Algebra"
   ]
  },
  {
   "cell_type": "markdown",
   "id": "democratic-youth",
   "metadata": {},
   "source": [
    "### 1. Evaluate sin(x) via polynomials using a least square approach"
   ]
  },
  {
   "cell_type": "code",
   "execution_count": 1,
   "id": "hidden-butterfly",
   "metadata": {},
   "outputs": [],
   "source": [
    "using LinearAlgebra\n",
    "using Statistics\n",
    "using CairoMakie"
   ]
  },
  {
   "cell_type": "code",
   "execution_count": 2,
   "id": "first-principle",
   "metadata": {},
   "outputs": [],
   "source": [
    "# expansion coeffs\n",
    "pmax = 20\n",
    "# evaluation points\n",
    "npoints = 1000\n",
    "x = LinRange(0, π/2, npoints);"
   ]
  },
  {
   "cell_type": "code",
   "execution_count": 3,
   "id": "reliable-electric",
   "metadata": {},
   "outputs": [],
   "source": [
    "# target function\n",
    "fstar(x) = sin(x);\n",
    "b = fstar.(x);"
   ]
  },
  {
   "cell_type": "code",
   "execution_count": 4,
   "id": "approved-vermont",
   "metadata": {},
   "outputs": [],
   "source": [
    "# matrix\n",
    "A = [x[i]^p for i in 1:npoints, p in 0:pmax];"
   ]
  },
  {
   "cell_type": "code",
   "execution_count": 5,
   "id": "existing-claim",
   "metadata": {},
   "outputs": [],
   "source": [
    "# solve for coeffs\n",
    "c = (A'*A) \\ (A'* b);"
   ]
  },
  {
   "cell_type": "code",
   "execution_count": 6,
   "id": "accessory-apartment",
   "metadata": {},
   "outputs": [],
   "source": [
    "# code for approximate fstar(x) = sin(x) on the interval [0,π/2] via plonomials using a least square approach with 1,000 evaluation points\n",
    "function approxsin(p_max)\n",
    "    pmax = p_max\n",
    "    x = LinRange(0, π/2, npoints)\n",
    "    fstar(x) = sin(x)\n",
    "    b = fstar.(x)\n",
    "    A = [x[i]^p for i in 1:npoints, p in 0:pmax]\n",
    "    c = (A'*A)\\ (A'*b)\n",
    "    return A * c\n",
    "end;"
   ]
  },
  {
   "cell_type": "markdown",
   "id": "advance-labor",
   "metadata": {},
   "source": [
    "***"
   ]
  },
  {
   "cell_type": "markdown",
   "id": "mathematical-flooring",
   "metadata": {},
   "source": [
    "### 2. The error of approximation function\n"
   ]
  },
  {
   "cell_type": "code",
   "execution_count": 7,
   "id": "appointed-doctrine",
   "metadata": {},
   "outputs": [],
   "source": [
    "# L2 norm of the difference between the real, fstar(x), and approximation function, f(x).\n",
    "function E(f1,fstar)\n",
    "    return sqrt(mean((f1.-fstar).^2))\n",
    "end;"
   ]
  },
  {
   "cell_type": "code",
   "execution_count": 8,
   "id": "swiss-boring",
   "metadata": {},
   "outputs": [
    {
     "data": {
      "image/png": "[encoded data removed]"
     },
     "execution_count": 8,
     "metadata": {},
     "output_type": "execute_result"
    }
   ],
   "source": [
    "p_max = 30;\n",
    "x = collect(range(0,p_max,length = p_max+1));\n",
    "y = [E(approxsin(p),b) for p in x];\n",
    "f = Figure(resolution = (400,400))\n",
    "Axis(f[1, 1], title = \"Error vs Number of terms\", xlabel = \"pmax\", ylabel = \"Error\", yscale=log10)\n",
    "plot!(x, y, markersize=10, color=:black)\n",
    "lines!(x,zeros(size(x)).+1e-10, color = :red)\n",
    "lines!(x,zeros(size(x)).+1e-20, color = :green)\n",
    "f"
   ]
  },
  {
   "cell_type": "code",
   "execution_count": 9,
   "id": "matched-yorkshire",
   "metadata": {},
   "outputs": [
    {
     "data": {
      "text/plain": [
       "(7.121103024044396e-11, 10)"
      ]
     },
     "execution_count": 9,
     "metadata": {},
     "output_type": "execute_result"
    }
   ],
   "source": [
    "findmin(y)"
   ]
  },
  {
   "cell_type": "markdown",
   "id": "automotive-series",
   "metadata": {},
   "source": [
    "At the begining (pmax<10), when we increase the number of pmax, the error is going down until reach the lowest point at pmax = 10. After reached the lowest point, the error is fluactuated."
   ]
  },
  {
   "cell_type": "markdown",
   "id": "friendly-bicycle",
   "metadata": {},
   "source": [
    "- What polynomial order (pmax) is required to satisfy E < 1.0e-10?\n",
    "\n",
    "As you can see, there is one pmax that acheive the lowest which is 10.\n",
    "- Why cant approach lower than 1e-20\n",
    "\n",
    "It is because the accumulated error from fitting the fstar(x) and f(x)."
   ]
  },
  {
   "cell_type": "markdown",
   "id": "simplified-mathematics",
   "metadata": {},
   "source": [
    "***"
   ]
  },
  {
   "cell_type": "markdown",
   "id": "asian-asset",
   "metadata": {},
   "source": [
    "### 3. Antisymmetric polynomials"
   ]
  },
  {
   "cell_type": "code",
   "execution_count": 10,
   "id": "motivated-october",
   "metadata": {},
   "outputs": [],
   "source": [
    "# modify to use only antisymmetric polynomials"
   ]
  },
  {
   "cell_type": "code",
   "execution_count": 11,
   "id": "automatic-authentication",
   "metadata": {},
   "outputs": [],
   "source": [
    "function Modapproxsin(p_max)\n",
    "# Code for approximate fstar(x) = sin(x) on the interval [0,π/2] via plonomials using a least square approach with 1,000 evaluation points\n",
    "    pmax = p_max\n",
    "    x = LinRange(0, π/2, npoints)\n",
    "    fstar(x) = sin(x)\n",
    "    b = fstar.(x)\n",
    "    A = [x[i]^p for i in 1:npoints, p in range(1, pmax, step = 2)]\n",
    "    c = (A'*A)\\ (A'*b)\n",
    "    return A * c\n",
    "end;"
   ]
  },
  {
   "cell_type": "code",
   "execution_count": 12,
   "id": "immediate-walnut",
   "metadata": {},
   "outputs": [],
   "source": [
    "p_max = 2*p_max+1\n",
    "oddrange = collect(range(1,p_max,step = 2));\n",
    "xmod = oddrange\n",
    "ymod = [E(Modapproxsin(pmax),b) for pmax in oddrange];\n"
   ]
  },
  {
   "cell_type": "code",
   "execution_count": 13,
   "id": "corresponding-economy",
   "metadata": {},
   "outputs": [
    {
     "data": {
      "image/png": "[encoded data removed]"
     },
     "execution_count": 13,
     "metadata": {},
     "output_type": "execute_result"
    }
   ],
   "source": [
    "f = Figure(resolution = (400,400))\n",
    "Axis(f[1, 1], title = \"Error vs Number of terms\", xlabel = \"pmax\", ylabel = \"Error\", yscale=log10)\n",
    "plot!(xmod, ymod, markersize=10, color=:black)\n",
    "lines!(xmod,zeros(size(xmod)).+1e-10, color = :red)\n",
    "lines!(xmod,zeros(size(xmod)).+1e-20, color = :green)\n",
    "f"
   ]
  },
  {
   "cell_type": "code",
   "execution_count": 14,
   "id": "numerous-summit",
   "metadata": {},
   "outputs": [
    {
     "data": {
      "text/plain": [
       "(1.347866361489308e-12, 7)"
      ]
     },
     "execution_count": 14,
     "metadata": {},
     "output_type": "execute_result"
    }
   ],
   "source": [
    "findmin(ymod)"
   ]
  },
  {
   "cell_type": "code",
   "execution_count": 15,
   "id": "meaning-armenia",
   "metadata": {},
   "outputs": [],
   "source": [
    "#Same computational cost comparison which is the # of polynomials\n",
    "# first [0,1,2,3,4,5] = 6 polymials\n",
    "# modified [1,3,5,7,9,11] = 6 polynomials\n",
    "# then to compare the same computational cost, we use p_max for the fisrt is pmax and the modified is 2*pmax+1\n"
   ]
  },
  {
   "cell_type": "code",
   "execution_count": 16,
   "id": "great-caribbean",
   "metadata": {},
   "outputs": [],
   "source": [
    "x = collect(range(0,p_max,length = p_max+1));\n",
    "y = [E(approxsin(p),b) for p in x];\n",
    "ymod = [E(Modapproxsin(2*p+1),b) for p in x];\n"
   ]
  },
  {
   "cell_type": "code",
   "execution_count": 17,
   "id": "bored-chicago",
   "metadata": {},
   "outputs": [
    {
     "data": {
      "image/png": "[encoded data removed]"
     },
     "execution_count": 17,
     "metadata": {},
     "output_type": "execute_result"
    }
   ],
   "source": [
    "f = Figure(resolution = (800,400))\n",
    "\n",
    "Axis(f[1, 1], title = \"Error vs Number of terms\", xlabel = \"# terms\", ylabel = \"Error\", yscale=log10)\n",
    "l1 = lines!(x, y, markersize=10, color=:black)\n",
    "l2 = lines!(x, ymod, markersize=10, color=:magenta)\n",
    "lines!(x,zeros(size(x)).+1e-10, color = :red)\n",
    "#lines!(x,zeros(size(x)).+1e-20, color = :green)\n",
    "Legend(f[1,2],[l1,l2],[\"all polynomials\",\"only antisym\"])\n",
    "f"
   ]
  },
  {
   "cell_type": "code",
   "execution_count": 18,
   "id": "novel-estate",
   "metadata": {},
   "outputs": [
    {
     "data": {
      "text/plain": [
       "((7.121103024044396e-11, 10), (1.347866361489308e-12, 7))"
      ]
     },
     "execution_count": 18,
     "metadata": {},
     "output_type": "execute_result"
    }
   ],
   "source": [
    "findmin(y), findmin(ymod)"
   ]
  },
  {
   "cell_type": "markdown",
   "id": "unsigned-plumbing",
   "metadata": {},
   "source": [
    "***"
   ]
  },
  {
   "cell_type": "markdown",
   "id": "renewable-miami",
   "metadata": {},
   "source": [
    "### 4. Derivative function"
   ]
  },
  {
   "cell_type": "markdown",
   "id": "foreign-defensive",
   "metadata": {},
   "source": [
    "For using only antisymmetric polynomials (magenta), we reached the new low at 7 terms."
   ]
  },
  {
   "cell_type": "markdown",
   "id": "identical-center",
   "metadata": {},
   "source": [
    "4. a) Calculate\n",
    "\n",
    "- The approximating function reads\n",
    "\\begin{equation}\n",
    "    f(c, x) = \\sum_{p=0}^{pmax} c_p x^p\n",
    "\\end{equation}\n",
    "\n",
    "- The derivative of this is\n",
    "\n",
    "\\begin{equation}\n",
    " f'(c, x) = \\sum_{p=1}^{pmax} c_pp x^{p-1}\n",
    "\\end{equation}\n",
    "or \n",
    "\\begin{equation}\n",
    " f'(c, x) = \\sum_{p=0}^{pmax-1} x^{p}(p+1) c_{p+1} \n",
    "\\end{equation}\n",
    "- Define \n",
    "\n",
    "\\begin{equation}\n",
    "g(d, x) = \\sum_{p=0}^{pmax} x^pd_p \n",
    "\\end{equation}\n",
    "\n",
    "- Set $g(d, x) = f'(c, x)$, we can solve for $\\vec{d}$ by comparing order of p order by order. \n"
   ]
  },
  {
   "cell_type": "markdown",
   "id": "sharing-milan",
   "metadata": {},
   "source": [
    "$d_p = (p+1)c_{p+1}$ & $d_{pmax} = 0$  "
   ]
  },
  {
   "cell_type": "markdown",
   "id": "completed-amount",
   "metadata": {},
   "source": [
    "We can express via linear operator $\\vec{d} = D\\vec{c}$ by defining D as"
   ]
  },
  {
   "cell_type": "markdown",
   "id": "leading-tuition",
   "metadata": {},
   "source": [
    "$D = (i+1)δ_{i,i+1}$"
   ]
  },
  {
   "cell_type": "markdown",
   "id": "dramatic-stylus",
   "metadata": {},
   "source": [
    "4. b) Calculate D numerically"
   ]
  },
  {
   "cell_type": "markdown",
   "id": "united-forest",
   "metadata": {},
   "source": [
    "$d_p = (p+1)c_{p+1}$ & $d_{pmax} = 0$  "
   ]
  },
  {
   "cell_type": "markdown",
   "id": "floating-divorce",
   "metadata": {},
   "source": [
    "$(p+1)c_{p+1} = Dc_p$"
   ]
  },
  {
   "cell_type": "code",
   "execution_count": 19,
   "id": "brutal-north",
   "metadata": {},
   "outputs": [],
   "source": [
    "#Code for find derivative given coff c\n",
    "ccopy = copy(c);\n",
    "c_new = deleteat!(ccopy,1);\n",
    "c_new = append!(c_new,0);\n",
    "d = [c_new[i]*i for i in 1:size(c_new,1)];"
   ]
  },
  {
   "cell_type": "code",
   "execution_count": 20,
   "id": "through-lighter",
   "metadata": {},
   "outputs": [],
   "source": [
    "#Test code"
   ]
  },
  {
   "cell_type": "code",
   "execution_count": 21,
   "id": "disciplinary-assets",
   "metadata": {},
   "outputs": [],
   "source": [
    "# approx cos(x) function\n",
    "function approxcos(p_max)\n",
    "    pmax = p_max\n",
    "    npoints = 1000\n",
    "    x = LinRange(0, π/2, npoints)\n",
    "    fstar(x) = cos(x)\n",
    "    b = fstar.(x)\n",
    "    A = [x[i]^p for i in 1:npoints, p in 0:pmax]\n",
    "    c = (A'*A)\\ (A'*b)\n",
    "    return A * c\n",
    "end;"
   ]
  },
  {
   "cell_type": "code",
   "execution_count": 22,
   "id": "editorial-official",
   "metadata": {},
   "outputs": [],
   "source": [
    "# approx sin(x) function and then take derivative so they should give us cos(x) function\n",
    "function dapproxsin(p_max)\n",
    "    pmax = p_max\n",
    "    x = LinRange(0, π/2, npoints)\n",
    "    fstar(x) = sin(x)\n",
    "    b = fstar.(x)\n",
    "    A = [x[i]^p for i in 1:npoints, p in 0:pmax]\n",
    "    c = (A'*A)\\ (A'*b)\n",
    "    ccopy = copy(c);\n",
    "    c_new = deleteat!(ccopy,1);\n",
    "    c_new = append!(c_new,0);\n",
    "    d = [c_new[i]*(i) for i in 1:size(c_new,1)];\n",
    "    D = d / c ;\n",
    "    return A * d\n",
    "end;"
   ]
  },
  {
   "cell_type": "code",
   "execution_count": 23,
   "id": "radical-taste",
   "metadata": {},
   "outputs": [
    {
     "data": {
      "text/plain": [
       "true"
      ]
     },
     "execution_count": 23,
     "metadata": {},
     "output_type": "execute_result"
    }
   ],
   "source": [
    "# check that Dsin(x) ≈ cos(x)\n",
    "isapprox(approxcos(12),dapproxsin(12), atol = 10^-5)"
   ]
  },
  {
   "cell_type": "markdown",
   "id": "complimentary-variety",
   "metadata": {},
   "source": [
    "***"
   ]
  }
 ],
 "metadata": {
  "kernelspec": {
   "display_name": "Julia 1.8.4",
   "language": "julia",
   "name": "julia-1.8"
  },
  "language_info": {
   "file_extension": ".jl",
   "mimetype": "application/julia",
   "name": "julia",
   "version": "1.8.4"
  }
 },
 "nbformat": 4,
 "nbformat_minor": 5
}
